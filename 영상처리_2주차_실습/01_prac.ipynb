{
 "cells": [
  {
   "cell_type": "code",
   "execution_count": 2,
   "metadata": {},
   "outputs": [],
   "source": [
    "import cv2\n",
    "import numpy as np"
   ]
  },
  {
   "cell_type": "markdown",
   "metadata": {},
   "source": [
    "### add, sub, mult, div"
   ]
  },
  {
   "cell_type": "code",
   "execution_count": 3,
   "metadata": {},
   "outputs": [
    {
     "name": "stdout",
     "output_type": "stream",
     "text": [
      "<original>\n",
      "[[100 100]\n",
      " [100 100]]\n",
      "<add>\n",
      "[[103 103]\n",
      " [103 103]]\n",
      "[[255 255]\n",
      " [255 255]]\n"
     ]
    }
   ],
   "source": [
    "src = np.full((2,2),100,np.uint8)\n",
    "\n",
    "print('<original>')\n",
    "print(src)\n",
    "\n",
    "print('<add>')\n",
    "print(cv2.add(src, 3))\n",
    "print(cv2.add(src, 200))\n",
    "\n"
   ]
  },
  {
   "cell_type": "markdown",
   "metadata": {},
   "source": [
    "### difference between float&uint8"
   ]
  },
  {
   "cell_type": "code",
   "execution_count": 6,
   "metadata": {},
   "outputs": [],
   "source": [
    "src1 = np.zeros((200,200))\n",
    "src2 = np.zeros((200,200), dtype=np.uint8)\n",
    "\n",
    "src3 = np.zeros((200,200), dtype=np.uint8)\n",
    "src4 = np.ones((200,200), dtype=np.uint8)\n",
    "\n",
    "cv2.imshow('src1', src1)\n",
    "cv2.imshow('src2',src2)\n",
    "cv2.imshow('src3',src3)\n",
    "cv2.imshow('src4',src4)\n",
    "\n",
    "cv2.waitKey()\n",
    "cv2.destroyAllWindows()"
   ]
  },
  {
   "cell_type": "markdown",
   "metadata": {},
   "source": [
    "### access to specific pixel"
   ]
  },
  {
   "cell_type": "code",
   "execution_count": 8,
   "metadata": {},
   "outputs": [],
   "source": [
    "src1[:,100:200] = 1.\n",
    "src2[:,100:200] = 255\n",
    "\n",
    "cv2.imshow('src1', src1)\n",
    "cv2.imshow('src2', src2)\n",
    "\n",
    "cv2.waitKey()\n",
    "cv2.destroyAllWindows()"
   ]
  }
 ],
 "metadata": {
  "kernelspec": {
   "display_name": "CV",
   "language": "python",
   "name": "python3"
  },
  "language_info": {
   "codemirror_mode": {
    "name": "ipython",
    "version": 3
   },
   "file_extension": ".py",
   "mimetype": "text/x-python",
   "name": "python",
   "nbconvert_exporter": "python",
   "pygments_lexer": "ipython3",
   "version": "3.12.2"
  }
 },
 "nbformat": 4,
 "nbformat_minor": 2
}
