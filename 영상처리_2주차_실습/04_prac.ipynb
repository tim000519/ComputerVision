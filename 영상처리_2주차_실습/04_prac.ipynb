{
 "cells": [
  {
   "cell_type": "code",
   "execution_count": 10,
   "metadata": {},
   "outputs": [],
   "source": [
    "import cv2\n",
    "import numpy as np"
   ]
  },
  {
   "cell_type": "code",
   "execution_count": 11,
   "metadata": {},
   "outputs": [
    {
     "name": "stdout",
     "output_type": "stream",
     "text": [
      "tf 1:src1.shape: (512, 512, 3), src2.shape: (512, 512, 3), src3.shape:(512, 512, 3)\n"
     ]
    }
   ],
   "source": [
    "src1 = cv2.imread('./Lena.png')\n",
    "src2 = cv2.imread('./cat.png')\n",
    "src3 = cv2.imread('./fruits.png')\n",
    "print(f'tf 1:src1.shape: {src1.shape}, src2.shape: {src2.shape}, src3.shape:{src3.shape}')\n"
   ]
  },
  {
   "cell_type": "code",
   "execution_count": 12,
   "metadata": {},
   "outputs": [
    {
     "name": "stdout",
     "output_type": "stream",
     "text": [
      "tf 1:src1.shape: (1, 512, 512, 3), src2.shape: (1, 512, 512, 3), src3.shape:(1, 512, 512, 3)\n"
     ]
    }
   ],
   "source": [
    "src1 = np.expand_dims(src1, axis = 0)   \n",
    "src2 = np.expand_dims(src2, axis=0)\n",
    "src3 = np.expand_dims(src3, axis = 0)   \n",
    "print(f'tf 1:src1.shape: {src1.shape}, src2.shape: {src2.shape}, src3.shape:{src3.shape}')\n"
   ]
  },
  {
   "cell_type": "code",
   "execution_count": 13,
   "metadata": {},
   "outputs": [
    {
     "name": "stdout",
     "output_type": "stream",
     "text": [
      "tf 3::batch.shape: (3, 512, 512, 3)\n",
      "\n"
     ]
    }
   ],
   "source": [
    "tf_batch = np.concatenate([src1, src2, src3], axis = 0)\n",
    "print(f'tf 3::batch.shape: {tf_batch.shape}\\n')\n",
    "                            "
   ]
  },
  {
   "cell_type": "code",
   "execution_count": 14,
   "metadata": {},
   "outputs": [],
   "source": [
    "cv2.imshow('Lena', tf_batch[0])\n",
    "cv2.imshow('Cat', tf_batch[1])\n",
    "cv2.imshow('Fruits', tf_batch[2])\n",
    "\n",
    "cv2.waitKey()\n",
    "cv2.destroyAllWindows()"
   ]
  },
  {
   "cell_type": "code",
   "execution_count": 15,
   "metadata": {},
   "outputs": [],
   "source": [
    "if __name__ == '__main__':\n",
    "    src = cv2.imread('./Lena.png')\n",
    "    dst1 = cv2.cvtColor(src, cv2.COLOR_BGR2GRAY)\n",
    "\n",
    "    dst2 = (src[:,:,0] * 1/3 +\n",
    "            src[:,:,1] * 1/3 +\n",
    "            src[:,:,2] * 1/3)\n",
    "    \n",
    "    dst3 = (src[:,:,0] * 0.0721 +\n",
    "            src[:,:,1] * 0.7154 +\n",
    "            src[:,:,2] * 0.2125)\n",
    "    \n",
    "    dst2 = np.round(dst2).astype(np.uint8)\n",
    "    dst3 = np.round(dst3).astype(np.uint8)\n",
    "\n",
    "    cv2.imshow('Original', src)\n",
    "    cv2.imshow('Gray (cvtColor)', dst1)\n",
    "    cv2.imshow('Gray(1/3)', dst2)\n",
    "    cv2.imshow('Gray (formula)', dst3)\n",
    "\n",
    "    cv2.waitKey()\n",
    "    cv2.destroyAllWindows()"
   ]
  },
  {
   "cell_type": "code",
   "execution_count": null,
   "metadata": {},
   "outputs": [],
   "source": []
  }
 ],
 "metadata": {
  "kernelspec": {
   "display_name": "CV",
   "language": "python",
   "name": "python3"
  },
  "language_info": {
   "codemirror_mode": {
    "name": "ipython",
    "version": 3
   },
   "file_extension": ".py",
   "mimetype": "text/x-python",
   "name": "python",
   "nbconvert_exporter": "python",
   "pygments_lexer": "ipython3",
   "version": "3.12.2"
  }
 },
 "nbformat": 4,
 "nbformat_minor": 2
}
