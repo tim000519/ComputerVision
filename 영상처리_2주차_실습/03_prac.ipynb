{
 "cells": [
  {
   "cell_type": "code",
   "execution_count": 4,
   "metadata": {},
   "outputs": [],
   "source": [
    "import cv2\n",
    "import numpy as np\n"
   ]
  },
  {
   "cell_type": "code",
   "execution_count": 5,
   "metadata": {},
   "outputs": [
    {
     "name": "stdout",
     "output_type": "stream",
     "text": [
      "type(src): <class 'numpy.ndarray'>\n",
      "src.dtype: uint8\n",
      "src.shape: (512, 512, 3)\n"
     ]
    }
   ],
   "source": [
    "src = cv2.imread('./Lena.png')\n",
    "\n",
    "print(f'type(src): {type(src)}')\n",
    "print(f'src.dtype: {src.dtype}')\n",
    "print(f'src.shape: {src.shape}')\n",
    "\n",
    "cv2.imshow('Lena', src)\n",
    "cv2.waitKey()\n",
    "cv2.destroyAllWindows()"
   ]
  },
  {
   "cell_type": "code",
   "execution_count": 8,
   "metadata": {},
   "outputs": [],
   "source": [
    "rgb = cv2.cvtColor(src, cv2.COLOR_BGR2RGB)\n",
    "gray = cv2.cvtColor(src, cv2.COLOR_BGR2GRAY)\n",
    "\n",
    "cv2.imshow('original', src)\n",
    "cv2.imshow('RGB', rgb)\n",
    "cv2.imshow('GRAY', gray)\n",
    "\n",
    "cv2.waitKey()\n",
    "cv2.destroyAllWindows()"
   ]
  },
  {
   "cell_type": "code",
   "execution_count": 12,
   "metadata": {},
   "outputs": [],
   "source": [
    "src1 = np.zeros((300,200))\n",
    "src2 = np.zeros((300,200),dtype = np.uint8)\n",
    "\n",
    "src1[:100] = 0\n",
    "src1[100:200] = 0.5\n",
    "src1[200:] = 1\n",
    "\n",
    "cv2.imshow('src1', src1)\n",
    "\n",
    "cv2.waitKey()\n",
    "cv2.destroyAllWindows()"
   ]
  },
  {
   "cell_type": "code",
   "execution_count": 13,
   "metadata": {},
   "outputs": [],
   "source": [
    "src2[:100] = 0\n",
    "src2[100:200] = 128\n",
    "src2[200:] = 255\n",
    "\n",
    "cv2.imshow('src2', src2)\n",
    "\n",
    "cv2.waitKey()\n",
    "cv2.destroyAllWindows()"
   ]
  },
  {
   "cell_type": "code",
   "execution_count": null,
   "metadata": {},
   "outputs": [],
   "source": []
  }
 ],
 "metadata": {
  "kernelspec": {
   "display_name": "CV",
   "language": "python",
   "name": "python3"
  },
  "language_info": {
   "codemirror_mode": {
    "name": "ipython",
    "version": 3
   },
   "file_extension": ".py",
   "mimetype": "text/x-python",
   "name": "python",
   "nbconvert_exporter": "python",
   "pygments_lexer": "ipython3",
   "version": "3.12.2"
  }
 },
 "nbformat": 4,
 "nbformat_minor": 2
}
