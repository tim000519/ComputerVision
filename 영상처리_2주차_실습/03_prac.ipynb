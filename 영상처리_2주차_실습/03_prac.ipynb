{
 "cells": [
  {
   "cell_type": "code",
   "execution_count": 1,
   "metadata": {},
   "outputs": [],
   "source": [
    "import cv2\n",
    "import numpy as np\n"
   ]
  },
  {
   "cell_type": "code",
   "execution_count": 2,
   "metadata": {},
   "outputs": [
    {
     "name": "stdout",
     "output_type": "stream",
     "text": [
      "type(src): <class 'numpy.ndarray'>\n",
      "src.dtype: uint8\n",
      "src.shape: (512, 512, 3)\n"
     ]
    }
   ],
   "source": [
    "src = cv2.imread('./Lena.png')\n",
    "\n",
    "print(f'type(src): {type(src)}')\n",
    "print(f'src.dtype: {src.dtype}')\n",
    "print(f'src.shape: {src.shape}')\n",
    "\n",
    "cv2.imshow('Lena', src)\n",
    "cv2.waitKey()\n",
    "cv2.destroyAllWindows()"
   ]
  },
  {
   "cell_type": "code",
   "execution_count": null,
   "metadata": {},
   "outputs": [],
   "source": [
    "rgb = cv2.cvtColor(src, cv2.COLOR_BGR2RGB)\n",
    "gray = cv2.cvtColor(src, cv2.COLOR_BAYER_BG2GRAY)"
   ]
  }
 ],
 "metadata": {
  "kernelspec": {
   "display_name": "CV",
   "language": "python",
   "name": "python3"
  },
  "language_info": {
   "codemirror_mode": {
    "name": "ipython",
    "version": 3
   },
   "file_extension": ".py",
   "mimetype": "text/x-python",
   "name": "python",
   "nbconvert_exporter": "python",
   "pygments_lexer": "ipython3",
   "version": "3.12.2"
  }
 },
 "nbformat": 4,
 "nbformat_minor": 2
}
